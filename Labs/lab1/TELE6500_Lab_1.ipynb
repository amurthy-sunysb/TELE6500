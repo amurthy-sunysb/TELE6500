{
 "cells": [
  {
   "cell_type": "markdown",
   "id": "d96e7598-7690-4121-b0f4-66da31ceacbe",
   "metadata": {},
   "source": [
    "# TELE 6500 LAB 1: Introduction and Exploratory Data Analysis"
   ]
  },
  {
   "cell_type": "markdown",
   "id": "44bb19a1-c142-4f76-a502-7e456b679a05",
   "metadata": {},
   "source": [
    "Welcome to the first lab of TELE 6500.  You will practice the following topics.\n",
    "\n",
    "1. How is time handled in Python?\n",
    "2. EDA of pollution dataset: importing the data and preliminaries\n",
    "3. EDA: Visualization\n",
    "4. EDA: ACF/PACF\n",
    "5. EDA: Handling Missing Values\n",
    "6. ACF/PACF revisited"
   ]
  },
  {
   "cell_type": "markdown",
   "id": "f98fa070-1b51-406b-a091-42e99305eb1d",
   "metadata": {},
   "source": [
    "## 1. How is time handled in Python?"
   ]
  },
  {
   "cell_type": "markdown",
   "id": "0709ce6b-7571-4f44-bc7d-f5c1e0fd8ebe",
   "metadata": {},
   "source": [
    "In this section, we review the fundamentals of managing time in Python.  Let's begin by importing the time package."
   ]
  },
  {
   "cell_type": "code",
   "execution_count": null,
   "id": "01949f4d-10a4-49aa-af06-b0bf537454d2",
   "metadata": {
    "tags": []
   },
   "outputs": [],
   "source": [
    "# Python’s standard library includes a module called time\n",
    "# that can print the number of seconds since the Unix epoch:\n",
    "import time\n"
   ]
  },
  {
   "cell_type": "markdown",
   "id": "34aabae6-12ac-4104-918c-d67f61a6aa21",
   "metadata": {},
   "source": [
    "Now, we can print the number of seconds elapsed since the Unix epoch started on January 1, 1970 midnight UTC."
   ]
  },
  {
   "cell_type": "code",
   "execution_count": null,
   "id": "ed6486fe-f030-49b0-9e72-a2439a418513",
   "metadata": {
    "tags": []
   },
   "outputs": [],
   "source": [
    "time.time()"
   ]
  },
  {
   "cell_type": "markdown",
   "id": "86923d97-1af1-4fcb-bd12-f23938238645",
   "metadata": {},
   "source": [
    "As we can see, this package is mainly used to create timestamps and is a good fit for measuring the running time of code.\n",
    "\n",
    "Now, let us import datetime, which offers date, time and datetime classes"
   ]
  },
  {
   "cell_type": "code",
   "execution_count": null,
   "id": "86ad1103-092e-4d40-a9e7-d7e135cd0086",
   "metadata": {
    "tags": []
   },
   "outputs": [],
   "source": [
    "from datetime import date, time, datetime"
   ]
  },
  {
   "cell_type": "markdown",
   "id": "d4bcc324-4ab0-432a-a99e-0edf46416139",
   "metadata": {},
   "source": [
    "We can create a datetime object from the timestamp obtained above."
   ]
  },
  {
   "cell_type": "code",
   "execution_count": null,
   "id": "f74ff765-ba5e-4599-995c-2e5254ea8133",
   "metadata": {
    "tags": []
   },
   "outputs": [],
   "source": [
    "datetime.fromtimestamp(1726669469.8785067)"
   ]
  },
  {
   "cell_type": "markdown",
   "id": "9b6a85a4-b4b6-4447-ad5d-36e89ae756d7",
   "metadata": {},
   "source": [
    "Next, we can create date and time objects using the respective constructors."
   ]
  },
  {
   "cell_type": "code",
   "execution_count": null,
   "id": "4c63b8f1-97ef-4496-9cd3-67ff51befc71",
   "metadata": {
    "tags": []
   },
   "outputs": [],
   "source": [
    "date(year=2020, month=1, day=31)"
   ]
  },
  {
   "cell_type": "code",
   "execution_count": null,
   "id": "b90d6a6e-85ea-4fb4-99a0-b11359ac7d07",
   "metadata": {
    "tags": []
   },
   "outputs": [],
   "source": [
    "time(hour=13, minute=14, second=31)"
   ]
  },
  {
   "cell_type": "markdown",
   "id": "65d76a7b-78cd-4868-81dc-d10c1c6b5fa6",
   "metadata": {},
   "source": [
    "As we see, just creating date and time objects are not particularly useful.  Let's create two datetime objects."
   ]
  },
  {
   "cell_type": "code",
   "execution_count": null,
   "id": "91ea549d-9b92-4c00-8957-c9f362d4170d",
   "metadata": {
    "tags": []
   },
   "outputs": [],
   "source": [
    "t1 = datetime(year=2020, month=2, day=29, hour=13, minute=14, second=31)\n",
    "t2 = datetime(year=2020, month=2, day=29, hour=14, minute=14, second=31)"
   ]
  },
  {
   "cell_type": "markdown",
   "id": "74e1e0f7-43ca-42a4-99a5-7a744d9d9b10",
   "metadata": {},
   "source": [
    "Let's take the difference of the two datetime objects. "
   ]
  },
  {
   "cell_type": "code",
   "execution_count": null,
   "id": "bd03ed0e-c616-4afd-88ba-f11cf38bfc01",
   "metadata": {
    "tags": []
   },
   "outputs": [],
   "source": [
    "t2 - t1"
   ]
  },
  {
   "cell_type": "markdown",
   "id": "1b490514-7a08-4adb-8306-176ee71409e6",
   "metadata": {},
   "source": [
    "The difference of two datetime objects is always a timedelta object.\n",
    "\n",
    "Now, let's work with timezones."
   ]
  },
  {
   "cell_type": "code",
   "execution_count": null,
   "id": "8c68184f-67ac-463b-a7c1-bad01b786c8c",
   "metadata": {
    "tags": []
   },
   "outputs": [],
   "source": [
    "from dateutil import tz, parser\n",
    "from datetime import timedelta"
   ]
  },
  {
   "cell_type": "markdown",
   "id": "93191f42-dba9-42f2-a53d-10c9e3713cd4",
   "metadata": {},
   "source": [
    "We can create UTC time in two ways.  Using utcnow() and .now, with manual timezone assignment"
   ]
  },
  {
   "cell_type": "code",
   "execution_count": null,
   "id": "d0ae4b85-8076-4a02-bc99-541fe8e3e2d1",
   "metadata": {
    "tags": []
   },
   "outputs": [],
   "source": [
    "now = datetime.utcnow()"
   ]
  },
  {
   "cell_type": "code",
   "execution_count": null,
   "id": "baaabf42-d578-4315-89ce-fe45fee86a67",
   "metadata": {
    "tags": []
   },
   "outputs": [],
   "source": [
    "print(now)"
   ]
  },
  {
   "cell_type": "code",
   "execution_count": null,
   "id": "78ed05a9-46c8-4858-a3bd-b43f1a595cd2",
   "metadata": {
    "tags": []
   },
   "outputs": [],
   "source": [
    "datetime.now(tz=tz.UTC)"
   ]
  },
  {
   "cell_type": "markdown",
   "id": "ab8bf199-6427-4a58-bc47-1fd943856909",
   "metadata": {},
   "source": [
    "Next, let's create a datetime object using a string and then assign it a timezone."
   ]
  },
  {
   "cell_type": "code",
   "execution_count": null,
   "id": "68356891-7e72-4620-b3d6-91df87011745",
   "metadata": {
    "tags": []
   },
   "outputs": [],
   "source": [
    "MY_DATE = parser.parse('May 15, 2024 8:00 AM')\n",
    "\n",
    "print(f'Before assignment, timezone = {MY_DATE.tzname()}')\n",
    "\n",
    "MY_DATE = MY_DATE.replace(tzinfo=tz.gettz('America/New_York'))\n",
    "\n",
    "print(f'After assignment, timezone={MY_DATE.tzname()}')"
   ]
  },
  {
   "cell_type": "code",
   "execution_count": null,
   "id": "90fb7878-03af-48ce-9e02-aa31681fc2e1",
   "metadata": {
    "tags": []
   },
   "outputs": [],
   "source": [
    "MY_DATE"
   ]
  },
  {
   "cell_type": "markdown",
   "id": "07b71ac2-f863-4008-8fa0-05d12ebc88db",
   "metadata": {},
   "source": [
    "Next, let's do some timezone arithemetic"
   ]
  },
  {
   "cell_type": "code",
   "execution_count": null,
   "id": "efb1a25f-2435-4c62-97db-5b7706083350",
   "metadata": {
    "tags": []
   },
   "outputs": [],
   "source": [
    "now = datetime.now(tz=tz.tzlocal())"
   ]
  },
  {
   "cell_type": "code",
   "execution_count": null,
   "id": "ab1bd7f2-2a8b-43f8-a398-ee230c4c97f0",
   "metadata": {
    "tags": []
   },
   "outputs": [],
   "source": [
    "print(now + timedelta(days=1))"
   ]
  },
  {
   "cell_type": "code",
   "execution_count": null,
   "id": "642b50b4-222d-4c21-a80e-eb35b38be78c",
   "metadata": {
    "tags": []
   },
   "outputs": [],
   "source": [
    "print(now + timedelta(months=10))"
   ]
  },
  {
   "cell_type": "code",
   "execution_count": null,
   "id": "11ce32ef-795a-49cc-9129-247e13a9ff89",
   "metadata": {
    "tags": []
   },
   "outputs": [],
   "source": [
    "print(now + timedelta(days=200))"
   ]
  },
  {
   "cell_type": "markdown",
   "id": "20269adf-f2a5-4fc0-9595-f5c980b3a254",
   "metadata": {},
   "source": [
    "As we studied in class, timedelta works only with days.  For a more granular control, we need relativedelta from dateutil."
   ]
  },
  {
   "cell_type": "code",
   "execution_count": null,
   "id": "8118b104-5f4c-4645-a3a5-8e7b59f92707",
   "metadata": {
    "tags": []
   },
   "outputs": [],
   "source": [
    "from dateutil.relativedelta import relativedelta"
   ]
  },
  {
   "cell_type": "code",
   "execution_count": null,
   "id": "862d178c-61c0-401a-aa51-b35387210440",
   "metadata": {
    "tags": []
   },
   "outputs": [],
   "source": [
    "now = datetime.now()"
   ]
  },
  {
   "cell_type": "code",
   "execution_count": null,
   "id": "70c4f638-7abc-4da6-bdc4-c1fbb3590ec3",
   "metadata": {
    "tags": []
   },
   "outputs": [],
   "source": [
    "delta = relativedelta(years=+5, months=+1, days=+3, hours=-4, minutes=-30)"
   ]
  },
  {
   "cell_type": "code",
   "execution_count": null,
   "id": "97539972-3e03-4f2f-8433-4a927efd9bc6",
   "metadata": {
    "tags": []
   },
   "outputs": [],
   "source": [
    "now + delta"
   ]
  },
  {
   "cell_type": "code",
   "execution_count": null,
   "id": "caed2f92-ed33-45e3-afd7-47baeaf59f86",
   "metadata": {
    "tags": []
   },
   "outputs": [],
   "source": [
    "now+delta - now"
   ]
  },
  {
   "cell_type": "markdown",
   "id": "b1ca72e6-b23e-459b-8c71-da5bdd6c7775",
   "metadata": {},
   "source": [
    "Next, we move on to the Beijing pollution dataset and explore the various patterns."
   ]
  },
  {
   "cell_type": "markdown",
   "id": "015e23a0-0bf4-405c-a3be-9fb698014b44",
   "metadata": {},
   "source": [
    "## 2. EDA of pollution dataset"
   ]
  },
  {
   "cell_type": "markdown",
   "id": "9bf8b0b7-3852-4189-a04c-e1491111784c",
   "metadata": {},
   "source": [
    "Let's begin by importing the data"
   ]
  },
  {
   "cell_type": "code",
   "execution_count": null,
   "id": "9a044db5-1410-4d2c-8cbf-ba948260d34d",
   "metadata": {
    "tags": []
   },
   "outputs": [],
   "source": [
    "import seaborn as sns\n",
    "\n",
    "import matplotlib as mpl\n",
    "import matplotlib.pyplot as plt\n",
    "import numpy as np\n",
    "import os\n",
    "from datetime import datetime\n",
    "\n",
    "import pandas as pd"
   ]
  },
  {
   "cell_type": "code",
   "execution_count": null,
   "id": "7f000428-e00c-4a6b-af5d-f6032d06adcf",
   "metadata": {
    "tags": []
   },
   "outputs": [],
   "source": [
    "df = pd.read_csv('PRSA_Data_Dingling_20130301-20170228.csv')"
   ]
  },
  {
   "cell_type": "code",
   "execution_count": null,
   "id": "f760234c-8325-42dd-81bb-75c97d81de79",
   "metadata": {
    "tags": []
   },
   "outputs": [],
   "source": [
    "df.head()"
   ]
  },
  {
   "cell_type": "markdown",
   "id": "5f5efac1-fa5c-4e00-8bff-d4a5a0f2dc5c",
   "metadata": {},
   "source": [
    "As we see, each column is imported separately.  We need to ensure that the date-related columns are imported as one column."
   ]
  },
  {
   "cell_type": "code",
   "execution_count": null,
   "id": "f90efeec-7762-44e1-96e5-84e763b1c8b9",
   "metadata": {
    "tags": []
   },
   "outputs": [],
   "source": [
    "df = pd.read_csv('PRSA_Data_Dingling_20130301-20170228.csv',\n",
    "                 parse_dates = [['year', 'month', 'day', 'hour']],\n",
    "                 date_parser = lambda x: datetime.strptime(x, '%Y %m %d %H'),\n",
    "                keep_date_col=True)\n"
   ]
  },
  {
   "cell_type": "markdown",
   "id": "57d4c80e-e6f2-43d1-b08d-60638c2e87ff",
   "metadata": {},
   "source": [
    "Let's inspect the first few rows of the imported dataframe."
   ]
  },
  {
   "cell_type": "code",
   "execution_count": null,
   "id": "1ebfd0eb-187c-4098-82e0-71b40f3e870a",
   "metadata": {
    "tags": []
   },
   "outputs": [],
   "source": [
    "df.head(10)"
   ]
  },
  {
   "cell_type": "markdown",
   "id": "100725b4-d9c3-44e9-9078-dfc878164ec1",
   "metadata": {},
   "source": [
    "This looks much better!  Let's inspect the data types for the columns and the number of entries they have."
   ]
  },
  {
   "cell_type": "code",
   "execution_count": null,
   "id": "bc961da4-989c-4e91-8abf-caa4a97edb75",
   "metadata": {
    "tags": []
   },
   "outputs": [],
   "source": [
    "df.info()"
   ]
  },
  {
   "cell_type": "markdown",
   "id": "78aece65-cf39-48fc-8f48-c1eafb4536d7",
   "metadata": {},
   "source": [
    "Hmm... most of the data types look okay.  Note the number of non-null rows are not the same.  This means several of the columns have missing data.  \n",
    "\n",
    "We can also check for the number of unique entries in each column."
   ]
  },
  {
   "cell_type": "code",
   "execution_count": null,
   "id": "8caa1bf2-fd7a-48a6-ba07-346b6c6c4e2d",
   "metadata": {
    "tags": []
   },
   "outputs": [],
   "source": [
    "df.nunique()"
   ]
  },
  {
   "cell_type": "markdown",
   "id": "31f45744-69c2-4f58-8dd3-31987eb4a164",
   "metadata": {},
   "source": [
    "### Different types of visualization of given data (no resampling)"
   ]
  },
  {
   "cell_type": "markdown",
   "id": "aead7e6e-7d0d-4e5c-94c9-68f20b122f42",
   "metadata": {},
   "source": [
    "Next, we create different types of visualizations"
   ]
  },
  {
   "cell_type": "code",
   "execution_count": null,
   "id": "88bbce06-9a1f-414c-afba-9c2eaa21c3c9",
   "metadata": {
    "tags": []
   },
   "outputs": [],
   "source": [
    "import plotly.express as px\n",
    "from plotly.subplots import make_subplots"
   ]
  },
  {
   "cell_type": "code",
   "execution_count": null,
   "id": "27705c27-718c-4960-8a79-9a4835b96c56",
   "metadata": {
    "tags": []
   },
   "outputs": [],
   "source": [
    "fig = px.line(df,\n",
    "             x = 'year_month_day_hour',\n",
    "             y='PM2.5',\n",
    "             title='PM2.5 with Slider')\n",
    "\n",
    "\n",
    "fig.update_xaxes(\n",
    "                 rangeslider_visible=True,\n",
    "                 rangeselector=dict(\n",
    "                             buttons = list(\n",
    "                             [dict(count=1, label='1y', step='year', stepmode='backward'),\n",
    "                              dict(count=2, label='2y', step='year', stepmode='backward'),\n",
    "                              dict(count=3, label='3y', step='year', stepmode='backward'),\n",
    "                              dict(step='all')\n",
    "                             ])))\n",
    "fig.show()\n",
    "\n",
    "fig.write_html(\"PM25_slider.html\")"
   ]
  },
  {
   "cell_type": "code",
   "execution_count": null,
   "id": "16168337-66de-4cbb-b6c3-2367923398ae",
   "metadata": {
    "tags": []
   },
   "outputs": [],
   "source": [
    "df = df.set_index('year_month_day_hour')"
   ]
  },
  {
   "cell_type": "code",
   "execution_count": null,
   "id": "ad4c414c-da26-4af8-81ac-2930386cc923",
   "metadata": {
    "tags": []
   },
   "outputs": [],
   "source": [
    "df.head()"
   ]
  },
  {
   "cell_type": "code",
   "execution_count": null,
   "id": "ae92217d-3536-4538-9024-11e1985e687a",
   "metadata": {
    "tags": []
   },
   "outputs": [],
   "source": [
    "df['PM2.5'].plot(grid=True)"
   ]
  },
  {
   "cell_type": "code",
   "execution_count": null,
   "id": "49853eeb-a61b-4999-ac31-67fd5b042304",
   "metadata": {
    "tags": []
   },
   "outputs": [],
   "source": [
    "df.loc['2015', 'PM2.5'].plot(grid=True, figsize=(12, 8))"
   ]
  },
  {
   "cell_type": "code",
   "execution_count": null,
   "id": "482e5aae-0bc1-46ec-88de-5db75801e0ab",
   "metadata": {
    "tags": []
   },
   "outputs": [],
   "source": [
    "df['2014':'2016'][['month', 'O3']].boxplot(by='month',\n",
    "                                           showfliers=False,\n",
    "                                           showmeans=True,\n",
    "                                           positions=[1, 10, 11, 12, 2, 3,4, 5, 6, 7,8, 9],\n",
    "                                           figsize=(12, 8))"
   ]
  },
  {
   "cell_type": "code",
   "execution_count": null,
   "id": "49a24789-b8bb-4bb0-8f20-c2df7118e428",
   "metadata": {
    "tags": []
   },
   "outputs": [],
   "source": [
    "df.loc['2015'][['PM2.5', 'TEMP']].plot(subplots=True, figsize=(16, 9))"
   ]
  },
  {
   "cell_type": "code",
   "execution_count": null,
   "id": "abc4dd0b-e029-47b9-a7fe-c98cf39dfb30",
   "metadata": {
    "tags": []
   },
   "outputs": [],
   "source": [
    "multi_data = df[['TEMP', 'PRES', 'DEWP', 'RAIN', 'PM2.5']]\n",
    "multi_data.plot(subplots=True, figsize=(16, 9))"
   ]
  },
  {
   "cell_type": "code",
   "execution_count": null,
   "id": "72841014-6ba5-4a95-866b-7c525b1e450d",
   "metadata": {
    "tags": []
   },
   "outputs": [],
   "source": [
    "g = sns.pairplot(df[['SO2', 'NO2', 'O3', 'CO', 'PM2.5', 'year']], hue='year')"
   ]
  },
  {
   "cell_type": "code",
   "execution_count": null,
   "id": "f5302707-7d84-41d6-8f49-b518d1b5f664",
   "metadata": {
    "tags": []
   },
   "outputs": [],
   "source": [
    "pd.plotting.lag_plot(df['TEMP'],lag=100)"
   ]
  },
  {
   "cell_type": "markdown",
   "id": "c0bc6a94-1d87-4a76-a327-5434bca6c88e",
   "metadata": {
    "tags": []
   },
   "source": [
    "### Visualization at different time scales (resampling)"
   ]
  },
  {
   "cell_type": "code",
   "execution_count": null,
   "id": "716302b6-94ac-4d8b-b0b6-77a832f837d9",
   "metadata": {
    "tags": []
   },
   "outputs": [],
   "source": [
    "df"
   ]
  },
  {
   "cell_type": "code",
   "execution_count": null,
   "id": "c59bf0ef-838f-4c19-a1d9-5f278b311299",
   "metadata": {
    "tags": []
   },
   "outputs": [],
   "source": [
    "data_columns = ['PM2.5', 'PM10', 'SO2', 'NO2', 'CO', 'O3', 'TEMP']\n",
    "df_daily_mean = df[data_columns].resample('D').mean()"
   ]
  },
  {
   "cell_type": "code",
   "execution_count": null,
   "id": "04ea0699-4514-4978-9a83-cceb113570a3",
   "metadata": {
    "tags": []
   },
   "outputs": [],
   "source": [
    "# Start and end of the date range to extract\n",
    "start, end = '2015-01', '2015-03'\n",
    "\n",
    "# Plot daily and weekly resampled time series together\n",
    "fig, ax = plt.subplots(figsize=(16, 9))\n",
    "ax.plot(df.loc[start:end, 'PM2.5'], marker='.', linestyle='-', linewidth=0.5, label='Daily')\n",
    "ax.plot(df_daily_mean.loc[start:end, 'PM2.5'], marker='o', markersize=8, linestyle='-', label='Weekly Mean Resample')\n",
    "ax.set_ylabel('PM2.5', fontsize=12)\n",
    "ax.legend();"
   ]
  },
  {
   "cell_type": "markdown",
   "id": "b03d96c6-835a-434c-95be-eb2cff9b866c",
   "metadata": {},
   "source": [
    "Get more plots by resampling at different frequencies and using different methods."
   ]
  },
  {
   "cell_type": "markdown",
   "id": "2c77f387-a256-4e29-81dd-983e2dbf3c94",
   "metadata": {},
   "source": [
    "## ACF and PACF Plotsfrom statsmodels.graphics.tsaplots import plot_acf\n"
   ]
  },
  {
   "cell_type": "markdown",
   "id": "024ed3a4-9a64-480d-810e-3ebb8985841c",
   "metadata": {},
   "source": [
    "Let's try to get the ACF and PACF plot.  "
   ]
  },
  {
   "cell_type": "code",
   "execution_count": null,
   "id": "d8650d66-6afb-4d76-a8da-937fe9869cbe",
   "metadata": {
    "tags": []
   },
   "outputs": [],
   "source": [
    "from statsmodels.graphics.tsaplots import plot_acf, plot_pacf\n",
    "plot_acf(df['TEMP'], lags=90)"
   ]
  },
  {
   "cell_type": "markdown",
   "id": "d29282a0-4b1d-4bf4-ad0e-60796ea08b70",
   "metadata": {},
   "source": [
    "We do not get any result because of the missing data.  We cannot get ACF and PACF plots if there is missing data.\n",
    "\n",
    "We will learn how to fill the missing data next."
   ]
  },
  {
   "cell_type": "markdown",
   "id": "34c56f73-5b5f-4170-922f-e8f5ba05f11b",
   "metadata": {},
   "source": [
    "## Handling Missing Data"
   ]
  },
  {
   "cell_type": "code",
   "execution_count": null,
   "id": "96c3187f-3cae-48cf-a70c-376dbdeb1315",
   "metadata": {
    "tags": []
   },
   "outputs": [],
   "source": [
    "df_temp_sample = df['2015-02-21 10:00:00':'2015-02-21 23:00:00']['TEMP']"
   ]
  },
  {
   "cell_type": "code",
   "execution_count": null,
   "id": "ba109024-e129-441e-a497-3501e9c898f5",
   "metadata": {
    "tags": []
   },
   "outputs": [],
   "source": [
    "df_temp_sample = pd.DataFrame(df_temp_sample)"
   ]
  },
  {
   "cell_type": "code",
   "execution_count": null,
   "id": "97accccd-f2e2-462a-8b56-b9eead78cce3",
   "metadata": {
    "tags": []
   },
   "outputs": [],
   "source": [
    "df_temp_sample['TEMP_FFILL'] = df_temp_sample.fillna(method='ffill')\n"
   ]
  },
  {
   "cell_type": "code",
   "execution_count": null,
   "id": "86c98153-9739-4921-af3a-f853615c8852",
   "metadata": {
    "tags": []
   },
   "outputs": [],
   "source": [
    "df_temp_sample"
   ]
  },
  {
   "cell_type": "code",
   "execution_count": null,
   "id": "7220895e-b9bf-495f-9e92-68ed6bcdc49b",
   "metadata": {
    "tags": []
   },
   "outputs": [],
   "source": [
    "df_temp_sample['TEMP_BFILL'] = df_temp_sample['TEMP'].fillna(method='bfill')\n"
   ]
  },
  {
   "cell_type": "code",
   "execution_count": null,
   "id": "138b5c5a-cab4-4729-9ca5-4d1ed31f2f31",
   "metadata": {
    "tags": []
   },
   "outputs": [],
   "source": [
    "df_temp_sample['TEMP_ROLLING'] = df_temp_sample['TEMP'].rolling(window=2, min_periods=1).mean()"
   ]
  },
  {
   "cell_type": "code",
   "execution_count": null,
   "id": "79d4d8cb-38ee-4a81-92bb-c077306c1ddb",
   "metadata": {
    "tags": []
   },
   "outputs": [],
   "source": [
    "#df_imp['’] = \n",
    "df_temp_sample = df_temp_sample.reset_index()\n",
    "\n",
    "df_temp_sample['TEMP_PREV_YEAR'] = df_temp_sample.apply(lambda x: df.loc[x['year_month_day_hour'] - pd.offsets.DateOffset(years=-1)]['TEMP'] if pd.isna(x['TEMP']) else x['TEMP'], axis=1)\n"
   ]
  },
  {
   "cell_type": "code",
   "execution_count": null,
   "id": "ead36459-434d-4461-808c-a702386333c2",
   "metadata": {
    "tags": []
   },
   "outputs": [],
   "source": [
    "df_temp_sample"
   ]
  },
  {
   "cell_type": "code",
   "execution_count": null,
   "id": "63346bf4-e77f-4d51-a39a-3cca3fa1b992",
   "metadata": {
    "tags": []
   },
   "outputs": [],
   "source": [
    "df_temp_sample['TEMP_LINEAR'] = df_temp_sample['TEMP'].interpolate(method='linear')"
   ]
  },
  {
   "cell_type": "code",
   "execution_count": null,
   "id": "8a6695bf-866a-485a-9656-4fdc056e6fd7",
   "metadata": {
    "tags": []
   },
   "outputs": [],
   "source": [
    "df_temp_sample"
   ]
  },
  {
   "cell_type": "code",
   "execution_count": null,
   "id": "779d3cd9-24c4-4b08-a6ae-512536246560",
   "metadata": {
    "tags": []
   },
   "outputs": [],
   "source": [
    "df['TEMP']"
   ]
  },
  {
   "cell_type": "code",
   "execution_count": null,
   "id": "e7f143df-5f8c-4fd6-97ca-9501b7e363c2",
   "metadata": {
    "tags": []
   },
   "outputs": [],
   "source": []
  },
  {
   "cell_type": "markdown",
   "id": "0d2f4235-f137-4569-b1cb-3d6fc729f039",
   "metadata": {},
   "source": [
    "Let's get back to pliotting the ACF and PACF plots."
   ]
  },
  {
   "cell_type": "code",
   "execution_count": null,
   "id": "12b039fc-205a-4111-bf22-197b4c0e891c",
   "metadata": {
    "tags": []
   },
   "outputs": [],
   "source": [
    "df['TEMP_FILLED'] = df['TEMP'].interpolate(method='linear')"
   ]
  },
  {
   "cell_type": "code",
   "execution_count": null,
   "id": "0189fd20-6cc6-4e76-a301-f389b742b72e",
   "metadata": {
    "tags": []
   },
   "outputs": [],
   "source": [
    "plot_acf(df['TEMP_FILLED']['2015-02-01 00:00:00':'2015-02-07 23:59:00'], lags=40)"
   ]
  },
  {
   "cell_type": "code",
   "execution_count": null,
   "id": "290346b0-86c6-465f-bd42-7a3b8abb7064",
   "metadata": {
    "tags": []
   },
   "outputs": [],
   "source": [
    "plot_pacf(df['TEMP_FILLED']['2015-02-01 00:00:00':'2015-02-07 23:59:00'], lags=40)"
   ]
  },
  {
   "cell_type": "markdown",
   "id": "87f39f23-4c45-4fd5-977b-667a8805e022",
   "metadata": {},
   "source": [
    "We were able to create the ACF and PACF plots after filling the missing data."
   ]
  },
  {
   "cell_type": "code",
   "execution_count": null,
   "id": "ddc57368-5020-47bc-9386-09a1130b83e6",
   "metadata": {},
   "outputs": [],
   "source": []
  }
 ],
 "metadata": {
  "kernelspec": {
   "display_name": "Python 3 (ipykernel)",
   "language": "python",
   "name": "python3"
  },
  "language_info": {
   "codemirror_mode": {
    "name": "ipython",
    "version": 3
   },
   "file_extension": ".py",
   "mimetype": "text/x-python",
   "name": "python",
   "nbconvert_exporter": "python",
   "pygments_lexer": "ipython3",
   "version": "3.11.5"
  }
 },
 "nbformat": 4,
 "nbformat_minor": 5
}
